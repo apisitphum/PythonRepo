{
    "metadata": {
        "kernelspec": {
            "name": "python3",
            "display_name": "Python 3 (ipykernel)",
            "language": "python"
        },
        "language_info": {
            "name": "python",
            "version": "3.8.10",
            "mimetype": "text/x-python",
            "codemirror_mode": {
                "name": "ipython",
                "version": 3
            },
            "pygments_lexer": "ipython3",
            "nbconvert_exporter": "python",
            "file_extension": ".py"
        }
    },
    "nbformat_minor": 2,
    "nbformat": 4,
    "cells": [
        {
            "cell_type": "markdown",
            "source": [
                "Print text to console"
            ],
            "metadata": {
                "azdata_cell_guid": "2c074e2e-62b4-4096-befb-688de42f73ec"
            },
            "attachments": {}
        },
        {
            "cell_type": "code",
            "source": [
                "print (\"Hello, apisit\")"
            ],
            "metadata": {
                "azdata_cell_guid": "afd7aa41-7264-4c9d-a4a0-2b027a218cd9",
                "language": "python"
            },
            "outputs": [
                {
                    "name": "stdout",
                    "text": "Hello, apisit\n",
                    "output_type": "stream"
                }
            ],
            "execution_count": 9
        },
        {
            "cell_type": "markdown",
            "source": [
                "Variables"
            ],
            "metadata": {
                "language": "python",
                "azdata_cell_guid": "9beda676-be3e-4987-8915-91f1d916e12f"
            },
            "attachments": {}
        },
        {
            "cell_type": "code",
            "source": [
                "my_age = 37 \r\n",
                "my_name = \"apisit\"\r\n",
                "\r\n",
                "print (my_age)\r\n",
                "print (my_name)"
            ],
            "metadata": {
                "language": "python",
                "azdata_cell_guid": "fb26efa3-97ca-4033-8b5e-5db078f10c22"
            },
            "outputs": [
                {
                    "name": "stdout",
                    "text": "37\napisit\n",
                    "output_type": "stream"
                }
            ],
            "execution_count": 11
        },
        {
            "cell_type": "markdown",
            "source": [
                "Slicing string"
            ],
            "metadata": {
                "language": "python",
                "azdata_cell_guid": "b414626b-0ab1-4c7d-8fad-54aec2c4b2f4"
            },
            "attachments": {}
        },
        {
            "cell_type": "code",
            "source": [
                "my_msg = \"This is my message\"\r\n",
                "print (my_msg[2:4])"
            ],
            "metadata": {
                "language": "python",
                "azdata_cell_guid": "b45c963c-6149-4072-8b4d-d03c508dad53"
            },
            "outputs": [
                {
                    "name": "stdout",
                    "text": "is\n",
                    "output_type": "stream"
                }
            ],
            "execution_count": 20
        },
        {
            "cell_type": "markdown",
            "source": [
                "Lists"
            ],
            "metadata": {
                "language": "python",
                "azdata_cell_guid": "1793aa7a-6fae-46da-a79f-6636aed61ad3"
            },
            "attachments": {}
        },
        {
            "cell_type": "code",
            "source": [
                "my_list = []\r\n",
                "my_list.append(1)\r\n",
                "my_list.append(2)\r\n",
                "\r\n",
                "for item in my_list :\r\n",
                "    print (item)"
            ],
            "metadata": {
                "language": "python",
                "azdata_cell_guid": "fbdb962a-f041-4949-a7ab-b378ca9d621d"
            },
            "outputs": [
                {
                    "name": "stdout",
                    "text": "1\n2\n",
                    "output_type": "stream"
                }
            ],
            "execution_count": 24
        },
        {
            "cell_type": "markdown",
            "source": [
                "If else"
            ],
            "metadata": {
                "language": "python",
                "azdata_cell_guid": "31a75808-86cf-4a9a-b65b-0abf04603167"
            },
            "attachments": {}
        },
        {
            "cell_type": "code",
            "source": [
                "num = 100 \r\n",
                "if num > 0 :\r\n",
                "    print (\"This num greater than 0\")\r\n",
                "else :\r\n",
                "    print (\"This num lower than 0\")"
            ],
            "metadata": {
                "language": "python",
                "azdata_cell_guid": "126090ee-cedc-4fb2-a0e0-f1123e9a97ce"
            },
            "outputs": [
                {
                    "name": "stdout",
                    "text": "This num greater than 0\n",
                    "output_type": "stream"
                }
            ],
            "execution_count": 23
        },
        {
            "cell_type": "markdown",
            "source": [
                "Loop"
            ],
            "metadata": {
                "language": "python",
                "azdata_cell_guid": "4542893e-44bb-4e04-acf2-f24de63ec3ff"
            },
            "attachments": {}
        },
        {
            "cell_type": "code",
            "source": [
                "for item in range(6) :\r\n",
                "    print (item)"
            ],
            "metadata": {
                "language": "python",
                "azdata_cell_guid": "8cea8a2e-abb7-4d2a-a75a-624a174fc851"
            },
            "outputs": [
                {
                    "name": "stdout",
                    "text": "0\n1\n2\n3\n4\n5\n",
                    "output_type": "stream"
                }
            ],
            "execution_count": 25
        },
        {
            "cell_type": "code",
            "source": [
                "for item in range(6) :\r\n",
                "    if item == 2 : \r\n",
                "        print (\"break loop\") \r\n",
                "        break\r\n",
                "    print (item)\r\n",
                ""
            ],
            "metadata": {
                "language": "python",
                "azdata_cell_guid": "fae3db4a-d22e-42b5-9f30-7ff489f75126"
            },
            "outputs": [
                {
                    "name": "stdout",
                    "text": "0\n1\nbreak loop\n",
                    "output_type": "stream"
                }
            ],
            "execution_count": 30
        },
        {
            "cell_type": "markdown",
            "source": [
                "Function"
            ],
            "metadata": {
                "language": "python",
                "azdata_cell_guid": "5571cbe8-1f76-488f-9f39-ea20c3f48630"
            },
            "attachments": {}
        },
        {
            "cell_type": "code",
            "source": [
                "def my_function() :\r\n",
                "    print (\"print from function\")\r\n",
                "\r\n",
                "my_function()"
            ],
            "metadata": {
                "language": "python",
                "azdata_cell_guid": "e24989e6-9706-4817-8e38-22cef84b9197"
            },
            "outputs": [
                {
                    "name": "stdout",
                    "text": "print from function\n",
                    "output_type": "stream"
                }
            ],
            "execution_count": 31
        },
        {
            "cell_type": "markdown",
            "source": [
                "Files handling"
            ],
            "metadata": {
                "language": "python",
                "azdata_cell_guid": "12c822fa-0865-4ed9-a80e-788053350a6c"
            },
            "attachments": {}
        },
        {
            "cell_type": "code",
            "source": [
                "with open(\"my_file.txt\", \"r\", encoding = \"utf8\") as file :\r\n",
                "    for line in file :\r\n",
                "        print (line)"
            ],
            "metadata": {
                "language": "python",
                "azdata_cell_guid": "3f371e67-ae6a-4067-bac1-54b2716467cb"
            },
            "outputs": [
                {
                    "name": "stdout",
                    "text": "A\n\nB\n\nC\n\nD\n",
                    "output_type": "stream"
                }
            ],
            "execution_count": 32
        },
        {
            "cell_type": "markdown",
            "source": [
                "Arithmetic"
            ],
            "metadata": {
                "language": "python",
                "azdata_cell_guid": "a8988158-035e-4bf7-976d-785cf1f29efa"
            },
            "attachments": {}
        },
        {
            "cell_type": "code",
            "source": [
                "x = 54 \r\n",
                "y = 10\r\n",
                "\r\n",
                "print (x + y)\r\n",
                "print (x - y)\r\n",
                "print (x * y)\r\n",
                "print (x / y)\r\n",
                "print (x // y)\r\n",
                "print (x % y)\r\n",
                "print (x ** y)"
            ],
            "metadata": {
                "language": "python",
                "azdata_cell_guid": "6dd1dc57-543a-48ec-a369-ca1901fe6f8f"
            },
            "outputs": [
                {
                    "name": "stdout",
                    "text": "64\n44\n540\n5.4\n5\n4\n210832519264920576\n",
                    "output_type": "stream"
                }
            ],
            "execution_count": 35
        }
    ]
}